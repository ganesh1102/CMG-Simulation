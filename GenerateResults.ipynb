{
 "cells": [
  {
   "cell_type": "code",
   "execution_count": 1,
   "metadata": {},
   "outputs": [
    {
     "name": "stderr",
     "output_type": "stream",
     "text": [
      "pybullet build time: Sep 12 2022 21:19:41\n"
     ]
    }
   ],
   "source": [
    "import ae353_cmg\n",
    "import time\n",
    "import sympy as sym\n",
    "from sympy.physics import mechanics\n",
    "import numpy as np\n",
    "mechanics.init_vprinting()\n",
    "import scipy.signal as signal\n",
    "\n",
    "import matplotlib.pyplot as plt\n",
    "import importlib\n",
    "importlib.reload(ae353_cmg)\n",
    "robot = ae353_cmg.RobotSimulator(damping=0., dt=0.001, display=False)"
   ]
  },
  {
   "cell_type": "code",
   "execution_count": 2,
   "metadata": {},
   "outputs": [],
   "source": [
    "#Create variables\n",
    "t = sym.Symbol('t')\n",
    "q1 = sym.Symbol('q1')\n",
    "q2 = sym.Symbol('q2')\n",
    "q3 = sym.Symbol('q3')\n",
    "v1 = sym.Symbol('v1')\n",
    "v2 = sym.Symbol('v2')\n",
    "v3 = sym.Symbol('v3')\n",
    "tau2 = sym.Symbol('tau2')\n",
    "tau3 = sym.Symbol('tau3')\n",
    "q1e = sym.Symbol('q1e')\n",
    "q2e = sym.Symbol('q2e')\n",
    "q3e = sym.Symbol('q3e')\n",
    "v1e = sym.Symbol('v1e')\n",
    "v2e = sym.Symbol('v2e')\n",
    "tau2e = sym.Symbol('tau2e')\n",
    "tau3e = sym.Symbol('tau3e')\n",
    "dt = 0.001"
   ]
  },
  {
   "cell_type": "code",
   "execution_count": 3,
   "metadata": {},
   "outputs": [
    {
     "data": {
      "image/png": "[encoded data removed]",
      "text/latex": [
       "$\\displaystyle \\left( - \\frac{1000 \\tau_{3} \\sin{\\left(q_{2} \\right)} + 5 v_{1} v_{2} \\sin{\\left(2 q_{2} \\right)} + 10 v_{2} v_{3} \\cos{\\left(q_{2} \\right)}}{10 \\sin^{2}{\\left(q_{2} \\right)} - 511}, \\  \\frac{1000 \\tau_{2}}{11} - \\frac{10 v_{1} v_{3} \\cos{\\left(q_{2} \\right)}}{11}\\right)$"
      ],
      "text/plain": [
       "⎛-(1000⋅τ₃⋅sin(q₂) + 5⋅v₁⋅v₂⋅sin(2⋅q₂) + 10⋅v₂⋅v₃⋅cos(q₂))   1000⋅τ₂   10⋅v₁⋅v\n",
       "⎜──────────────────────────────────────────────────────────, ─────── - ───────\n",
       "⎜                          2                                    11            \n",
       "⎝                    10⋅sin (q₂) - 511                                        \n",
       "\n",
       "₃⋅cos(q₂)⎞\n",
       "─────────⎟\n",
       "11       ⎟\n",
       "         ⎠"
      ]
     },
     "execution_count": 3,
     "metadata": {},
     "output_type": "execute_result"
    }
   ],
   "source": [
    "q1dot = v1\n",
    "q2dot = v2\n",
    "v1dot = -(5*(200*tau3*sym.sin(q2)+sym.sin(2*q2)*v1*v2+2*sym.cos(q2)*v2*v3)/(10*(sym.sin(q2))**2 -511))\n",
    "v2dot = 10*(100*tau2 - sym.cos(q2)*v1*v3)/11\n",
    "v1dot, v2dot"
   ]
  },
  {
   "cell_type": "code",
   "execution_count": 4,
   "metadata": {},
   "outputs": [
    {
     "data": {
      "text/latex": [
       "$\\displaystyle \\left[\\begin{matrix}v_{1}\\\\- \\frac{1000 \\tau_{3} \\sin{\\left(q_{2} \\right)} + 5 v_{1} v_{2} \\sin{\\left(2 q_{2} \\right)} + 10 v_{2} v_{3} \\cos{\\left(q_{2} \\right)}}{10 \\sin^{2}{\\left(q_{2} \\right)} - 511}\\\\v_{2}\\\\\\frac{1000 \\tau_{2}}{11} - \\frac{10 v_{1} v_{3} \\cos{\\left(q_{2} \\right)}}{11}\\end{matrix}\\right]$"
      ],
      "text/plain": [
       "⎡                            v₁                            ⎤\n",
       "⎢                                                          ⎥\n",
       "⎢-(1000⋅τ₃⋅sin(q₂) + 5⋅v₁⋅v₂⋅sin(2⋅q₂) + 10⋅v₂⋅v₃⋅cos(q₂)) ⎥\n",
       "⎢──────────────────────────────────────────────────────────⎥\n",
       "⎢                          2                               ⎥\n",
       "⎢                    10⋅sin (q₂) - 511                     ⎥\n",
       "⎢                                                          ⎥\n",
       "⎢                            v₂                            ⎥\n",
       "⎢                                                          ⎥\n",
       "⎢                1000⋅τ₂   10⋅v₁⋅v₃⋅cos(q₂)                ⎥\n",
       "⎢                ─────── - ────────────────                ⎥\n",
       "⎣                   11            11                       ⎦"
      ]
     },
     "execution_count": 4,
     "metadata": {},
     "output_type": "execute_result"
    }
   ],
   "source": [
    "xdot = sym.Matrix([[q1dot],[v1dot],[q2dot],[v2dot]])\n",
    "xdot"
   ]
  },
  {
   "cell_type": "code",
   "execution_count": 5,
   "metadata": {},
   "outputs": [],
   "source": [
    "#pick equilibrium values for our variables\n",
    "v1e = 0\n",
    "v2e = 0\n",
    "v3e = 100 * (2 * sym.pi / 60)\n",
    "q1e = sym.pi / 20\n",
    "q2e = sym.pi / 4\n",
    "tau2e = 0 \n",
    "tau3e = 0"
   ]
  },
  {
   "cell_type": "code",
   "execution_count": 6,
   "metadata": {},
   "outputs": [
    {
     "data": {
      "text/latex": [
       "$\\displaystyle \\left[\\begin{matrix}0 & 1 & 0 & 0\\\\0 & - \\frac{5 v_{2} \\sin{\\left(2 q_{2} \\right)}}{10 \\sin^{2}{\\left(q_{2} \\right)} - 511} & - \\frac{1000 \\tau_{3} \\cos{\\left(q_{2} \\right)} + 10 v_{1} v_{2} \\cos{\\left(2 q_{2} \\right)} - 10 v_{2} v_{3} \\sin{\\left(q_{2} \\right)}}{10 \\sin^{2}{\\left(q_{2} \\right)} - 511} + \\frac{20 \\cdot \\left(1000 \\tau_{3} \\sin{\\left(q_{2} \\right)} + 5 v_{1} v_{2} \\sin{\\left(2 q_{2} \\right)} + 10 v_{2} v_{3} \\cos{\\left(q_{2} \\right)}\\right) \\sin{\\left(q_{2} \\right)} \\cos{\\left(q_{2} \\right)}}{\\left(10 \\sin^{2}{\\left(q_{2} \\right)} - 511\\right)^{2}} & - \\frac{5 v_{1} \\sin{\\left(2 q_{2} \\right)} + 10 v_{3} \\cos{\\left(q_{2} \\right)}}{10 \\sin^{2}{\\left(q_{2} \\right)} - 511}\\\\0 & 0 & 0 & 1\\\\0 & - \\frac{10 v_{3} \\cos{\\left(q_{2} \\right)}}{11} & \\frac{10 v_{1} v_{3} \\sin{\\left(q_{2} \\right)}}{11} & 0\\end{matrix}\\right]$"
      ],
      "text/plain": [
       "⎡0          1                                                                 \n",
       "⎢                                                                             \n",
       "⎢    -5⋅v₂⋅sin(2⋅q₂)     1000⋅τ₃⋅cos(q₂) + 10⋅v₁⋅v₂⋅cos(2⋅q₂) - 10⋅v₂⋅v₃⋅sin(q\n",
       "⎢0  ─────────────────  - ─────────────────────────────────────────────────────\n",
       "⎢         2                                       2                           \n",
       "⎢   10⋅sin (q₂) - 511                       10⋅sin (q₂) - 511                 \n",
       "⎢                                                                             \n",
       "⎢                                                                             \n",
       "⎢0          0                                                                 \n",
       "⎢                                                                             \n",
       "⎢    -10⋅v₃⋅cos(q₂)                                                           \n",
       "⎢0   ───────────────                                                          \n",
       "⎣           11                                                                \n",
       "\n",
       "            0                                                                 \n",
       "                                                                              \n",
       "₂)   20⋅(1000⋅τ₃⋅sin(q₂) + 5⋅v₁⋅v₂⋅sin(2⋅q₂) + 10⋅v₂⋅v₃⋅cos(q₂))⋅sin(q₂)⋅cos(q\n",
       "── + ─────────────────────────────────────────────────────────────────────────\n",
       "                                                    2                         \n",
       "                                 ⎛      2          ⎞                          \n",
       "                                 ⎝10⋅sin (q₂) - 511⎠                          \n",
       "                                                                              \n",
       "            0                                                                 \n",
       "                                                                              \n",
       "    10⋅v₁⋅v₃⋅sin(q₂)                                                          \n",
       "    ────────────────                                                          \n",
       "           11                                                                 \n",
       "\n",
       "                    0                 ⎤\n",
       "                                      ⎥\n",
       "₂)  -(5⋅v₁⋅sin(2⋅q₂) + 10⋅v₃⋅cos(q₂)) ⎥\n",
       "──  ──────────────────────────────────⎥\n",
       "                  2                   ⎥\n",
       "            10⋅sin (q₂) - 511         ⎥\n",
       "                                      ⎥\n",
       "                                      ⎥\n",
       "                    1                 ⎥\n",
       "                                      ⎥\n",
       "                                      ⎥\n",
       "                    0                 ⎥\n",
       "                                      ⎦"
      ]
     },
     "execution_count": 6,
     "metadata": {},
     "output_type": "execute_result"
    }
   ],
   "source": [
    "A = xdot.jacobian([q1,v1,q2,v2])\n",
    "A"
   ]
  },
  {
   "cell_type": "code",
   "execution_count": 7,
   "metadata": {},
   "outputs": [
    {
     "data": {
      "text/latex": [
       "$\\displaystyle \\left[\\begin{matrix}0 & 0\\\\0 & - \\frac{1000 \\sin{\\left(q_{2} \\right)}}{10 \\sin^{2}{\\left(q_{2} \\right)} - 511}\\\\0 & 0\\\\\\frac{1000}{11} & 0\\end{matrix}\\right]$"
      ],
      "text/plain": [
       "⎡ 0            0        ⎤\n",
       "⎢                       ⎥\n",
       "⎢        -1000⋅sin(q₂)  ⎥\n",
       "⎢ 0    ─────────────────⎥\n",
       "⎢            2          ⎥\n",
       "⎢      10⋅sin (q₂) - 511⎥\n",
       "⎢                       ⎥\n",
       "⎢ 0            0        ⎥\n",
       "⎢                       ⎥\n",
       "⎢1000                   ⎥\n",
       "⎢────          0        ⎥\n",
       "⎣ 11                    ⎦"
      ]
     },
     "execution_count": 7,
     "metadata": {},
     "output_type": "execute_result"
    }
   ],
   "source": [
    "B = xdot.jacobian([tau2,tau3])\n",
    "B"
   ]
  },
  {
   "cell_type": "code",
   "execution_count": 8,
   "metadata": {},
   "outputs": [
    {
     "data": {
      "text/latex": [
       "$\\displaystyle \\left[\\begin{matrix}0 & 1.0 & 0 & 0\\\\0 & 0 & 0 & 0.146340017725901\\\\0 & 0 & 0 & 1.0\\\\0 & -6.73164081539146 & 0 & 0\\end{matrix}\\right]$"
      ],
      "text/plain": [
       "⎡0         1.0         0          0        ⎤\n",
       "⎢                                          ⎥\n",
       "⎢0          0          0  0.146340017725901⎥\n",
       "⎢                                          ⎥\n",
       "⎢0          0          0         1.0       ⎥\n",
       "⎢                                          ⎥\n",
       "⎣0  -6.73164081539146  0          0        ⎦"
      ]
     },
     "execution_count": 8,
     "metadata": {},
     "output_type": "execute_result"
    }
   ],
   "source": [
    "A_eval = A.evalf(subs={v1:v1e,v2:v2e,v3:v3e,q1:q1e,q2:q2e,tau2:tau2e,tau3:tau3e})\n",
    "A_eval"
   ]
  },
  {
   "cell_type": "code",
   "execution_count": 9,
   "metadata": {
    "scrolled": true
   },
   "outputs": [
    {
     "data": {
      "text/latex": [
       "$\\displaystyle \\left[\\begin{matrix}0 & 0\\\\0 & 1.39744423159397\\\\0 & 0\\\\90.9090909090909 & 0\\end{matrix}\\right]$"
      ],
      "text/plain": [
       "⎡       0                 0        ⎤\n",
       "⎢                                  ⎥\n",
       "⎢       0          1.39744423159397⎥\n",
       "⎢                                  ⎥\n",
       "⎢       0                 0        ⎥\n",
       "⎢                                  ⎥\n",
       "⎣90.9090909090909         0        ⎦"
      ]
     },
     "execution_count": 9,
     "metadata": {},
     "output_type": "execute_result"
    }
   ],
   "source": [
    "B_eval = B.evalf(subs={v1:v1e,v2:v2e,v3:v3e,q1:q1e,q2:q2e,tau2:tau2e,tau3:tau3e})\n",
    "B_eval"
   ]
  },
  {
   "cell_type": "code",
   "execution_count": 10,
   "metadata": {},
   "outputs": [
    {
     "name": "stdout",
     "output_type": "stream",
     "text": [
      "\\left[\\begin{matrix}v_{1}\\\\- \\frac{1000 \\tau_{3} \\sin{\\left(q_{2} \\right)} + 5 v_{1} v_{2} \\sin{\\left(2 q_{2} \\right)} + 10 v_{2} v_{3} \\cos{\\left(q_{2} \\right)}}{10 \\sin^{2}{\\left(q_{2} \\right)} - 511}\\\\v_{2}\\\\\\frac{1000 \\tau_{2}}{11} - \\frac{10 v_{1} v_{3} \\cos{\\left(q_{2} \\right)}}{11}\\end{matrix}\\right]\n"
     ]
    }
   ],
   "source": [
    "print(f'{mechanics.mlatex(xdot)}')"
   ]
  },
  {
   "cell_type": "code",
   "execution_count": 11,
   "metadata": {},
   "outputs": [
    {
     "data": {
      "text/plain": [
       "(array([[ 0.        ,  1.        ,  0.        ,  0.        ],\n",
       "        [ 0.        ,  0.        ,  0.        ,  0.14634002],\n",
       "        [ 0.        ,  0.        ,  0.        ,  1.        ],\n",
       "        [ 0.        , -6.73164082,  0.        ,  0.        ]]),\n",
       " array([[ 0.        ,  0.        ],\n",
       "        [ 0.        ,  1.39744423],\n",
       "        [ 0.        ,  0.        ],\n",
       "        [90.90909091,  0.        ]]))"
      ]
     },
     "execution_count": 11,
     "metadata": {},
     "output_type": "execute_result"
    }
   ],
   "source": [
    "A_arr = np.array(A_eval).astype(np.float64)\n",
    "B_arr = np.array(B_eval).astype(np.float64)\n",
    "A_arr,B_arr"
   ]
  },
  {
   "cell_type": "code",
   "execution_count": 12,
   "metadata": {},
   "outputs": [
    {
     "data": {
      "text/plain": [
       "array([-4., -3., -2., -1.])"
      ]
     },
     "execution_count": 12,
     "metadata": {},
     "output_type": "execute_result"
    }
   ],
   "source": [
    "eigs = np.array([-1,-2,-3,-4])\n",
    "k = signal.place_poles(A_arr, B_arr, eigs).gain_matrix\n",
    "signal.place_poles(A_arr, B_arr, eigs).computed_poles"
   ]
  },
  {
   "cell_type": "code",
   "execution_count": null,
   "metadata": {},
   "outputs": [],
   "source": [
    "# Make a controller \n",
    "class RobotController:\n",
    "    def __init__(self, k, q1e,q2e,v1e,v2e,v3e,tau2e,tau3e,dt):\n",
    "        self.k = k\n",
    "        self.q1e = q1e\n",
    "        self.q2e = q2e\n",
    "        self.v1e = v1e\n",
    "        self.v2e = v2e\n",
    "        self.v3e = v3e\n",
    "        self.tau2e = tau2e\n",
    "        self.tau3e= tau3e\n",
    "        self.dt = dt\n",
    "    def run(self, q1, v1, q2, v2, q3):\n",
    "        x = np.array([q1-q1e,v1-v1e,q2-q2e,v2-v2e])\n",
    "        u = -self.k@x\n",
    "        tau2 = u[0]\n",
    "        tau3 = u[1]\n",
    "        return tau2,tau3\n",
    "\n",
    "controller = RobotController(k,q1e,q2e,v1e,v2e,v3e,tau2e,tau3e,dt)\n",
    "robot.reset(rotor_rpm=100.)\n",
    "\n",
    "# Choose how long we want to run the simulation, and\n",
    "# compute the corresponding number of time steps\n",
    "run_time = 50.\n",
    "num_steps = int(run_time/robot.dt)\n",
    "\n",
    "# Create a dictionary in which to store results\n",
    "data = {\n",
    "    't': np.empty(num_steps, dtype=float),\n",
    "    'q1': np.empty(num_steps, dtype=float),\n",
    "    'v1': np.empty(num_steps, dtype=float),\n",
    "    'q2': np.empty(num_steps, dtype=float),\n",
    "    'v2': np.empty(num_steps, dtype=float),\n",
    "    'q3': np.empty(num_steps, dtype=float),\n",
    "    'v3': np.empty(num_steps, dtype=float),\n",
    "    'tau2': np.empty(num_steps, dtype=float),\n",
    "    'tau3': np.empty(num_steps, dtype=float),\n",
    "}\n",
    "\n",
    "# Run the simulation loop\n",
    "start_time = time.time()\n",
    "for step in range(num_steps):\n",
    "    # Get the current time\n",
    "    t = robot.dt * step\n",
    "    \n",
    "    # Get the sensor measurements\n",
    "    q1, v1, q2, v2, q3, v3 = robot.get_sensor_measurements()\n",
    "    \n",
    "    # Choose the actuator command (by running the controller)\n",
    "    tau2, tau3 = controller.run(q1, v1, q2, v2, q3)\n",
    "    \n",
    "    # Log the data from this time step\n",
    "    data['t'][step] = t\n",
    "    data['q1'][step] = q1\n",
    "    data['v1'][step] = v1\n",
    "    data['q2'][step] = q2\n",
    "    data['v2'][step] = v2\n",
    "    data['q3'][step] = q3\n",
    "    data['v3'][step] = v3\n",
    "    data['tau2'][step] = tau2\n",
    "    data['tau3'][step] = tau3\n",
    "    \n",
    "    # Send the actuator commands to robot and go forward one time\n",
    "    # step (this is where the actual simulation happens)\n",
    "    robot.set_actuator_commands(tau2, tau3)\n",
    "    robot.step(t=(start_time + (robot.dt * (step + 1))))"
   ]
  },
  {
   "cell_type": "code",
   "execution_count": null,
   "metadata": {
    "scrolled": false
   },
   "outputs": [],
   "source": [
    "# Create a figure with three subplots, all of which share the same x-axis\n",
    "fig, ax = plt.subplots(3, 1, figsize=(9, 12), sharex=True)\n",
    "\n",
    "# Plot angle of outer gimbal on first subplot\n",
    "ax[0].plot(data['t'], data['q1'], label='outer angle (rad)', linewidth=4)\n",
    "ax[0].grid()\n",
    "ax[0].legend(fontsize=16)\n",
    "ax[0].tick_params(labelsize=14)\n",
    "\n",
    "# Plot angular velocity of outer gimbal on second subplot\n",
    "ax[1].plot(data['t'], data['v1'], label='outer angular velocity (rad / s)', linewidth=4)\n",
    "ax[1].grid()\n",
    "ax[1].legend(fontsize=16)\n",
    "ax[1].tick_params(labelsize=14)\n",
    "\n",
    "# Plot torques on third subplot\n",
    "ax[2].plot(data['t'], data['tau2'], label='gimbal torque command (N-m)', linewidth=4)\n",
    "ax[2].plot(data['t'], data['tau3'], label='rotor torque command (N-m)', linewidth=4)\n",
    "ax[2].plot(data['t'], np.ones_like(data['t']) * robot.tau_max, '--', label='max joint torque', linewidth=4, color='C2')\n",
    "ax[2].plot(data['t'], -np.ones_like(data['t']) * robot.tau_max, '--', linewidth=4, color='C2')\n",
    "ax[2].grid()\n",
    "ax[2].legend(fontsize=16)\n",
    "ax[2].tick_params(labelsize=14)\n",
    "ax[2].set_ylim(-1.2 * robot.tau_max, 1.2 * robot.tau_max)\n",
    "\n",
    "# Set x-axis properties (only need to do this on the fourth\n",
    "# subplot since all four subplots share the same x-axis)\n",
    "ax[2].set_xlabel('time (s)', fontsize=20)\n",
    "ax[2].set_xlim([data['t'][0], data['t'][-1]])\n",
    "\n",
    "# Make the arrangement of subplots look nice\n",
    "fig.tight_layout()"
   ]
  },
  {
   "cell_type": "code",
   "execution_count": null,
   "metadata": {},
   "outputs": [],
   "source": []
  }
 ],
 "metadata": {
  "kernelspec": {
   "display_name": "Python (ae353-bullet)",
   "language": "python",
   "name": "ae353-bullet"
  },
  "language_info": {
   "codemirror_mode": {
    "name": "ipython",
    "version": 3
   },
   "file_extension": ".py",
   "mimetype": "text/x-python",
   "name": "python",
   "nbconvert_exporter": "python",
   "pygments_lexer": "ipython3",
   "version": "3.10.4"
  }
 },
 "nbformat": 4,
 "nbformat_minor": 4
}
